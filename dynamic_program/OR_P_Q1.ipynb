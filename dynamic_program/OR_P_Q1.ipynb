{
  "nbformat": 4,
  "nbformat_minor": 0,
  "metadata": {
    "colab": {
      "provenance": []
    },
    "kernelspec": {
      "name": "python3",
      "display_name": "Python 3"
    },
    "language_info": {
      "name": "python"
    }
  },
  "cells": [
    {
      "cell_type": "markdown",
      "source": [
        "# Q1"
      ],
      "metadata": {
        "id": "9BiAfcMyso29"
      }
    },
    {
      "cell_type": "markdown",
      "source": [
        " $2x_1 + 4x_2 + 5x_3 + 8x_4=10,\\ x_i: is\\ non\\ negative\\ integer$\n",
        "\n",
        "we set the coefficient of $x_i$ as $a_i$. and $RHS$ as $S$.(S=10)\n",
        "\n",
        "note that $\\frac{(x_1+x_2+x_3+x_4)!}{(x_1)!(x_2)!(x_3)!(x_4)!}$ is the permutation of 4 unique objects and $x_i$ is the number of object i.\n",
        "\n",
        "\n",
        "so in order to explain the problem better we can say that Given a value $S=10$ and we have given a set of 4 cards with values   $A={a_1, ..., a_4}$, we must find the total number of arrangements of cards that will make sum $S$. we can use each card as much as we want.\n",
        "\n",
        "so we mapped the coefficient $a_i$ with a card with value $a_i$, $x_i$ as the number of cards $a_i$ we use, and $\\frac{(x_1+x_2+x_3+x_4)!}{(x_1)!(x_2)!(x_3)!(x_4)!}$ as the number of card arrengments.\n",
        "\n",
        "\\\n",
        "\n",
        "**solution**\n",
        "\n",
        "we first initalize a $DP$ array with length $10+1$. $DP_i$ represents the number of ways we can arrenge cards with total value of $i$.\n",
        "\n",
        "we initialize $DP_0$ as 1 (the only way to have 0 sum is to select no cards).\n",
        "for each $1 \\leq i \\leq 10$, we count the ways of permuting cards with total amount $i$.\n",
        "\n",
        "for each $1 \\leq i \\leq 10$:\n",
        "\n",
        " \n",
        "\n",
        "1.   for each cards $a_j$:\n",
        "\n",
        "      \n",
        "\n",
        "*   if $a_j > i$: we can not use this card becous $a_j$ is already bigger than the sum of all cards i. so $DP_{i_{new}}=DP_i$\n",
        "*   if $a_j\\leq i$: when we choose $a_j$ the sum is $i-a_j$. so we need to find the total permutations of the cards that add up to $i-a_j$ which is $DP_{i-a_j}$ and has been calculated. we need to add the number of these new permutations to the old ones, so  $DP_{i_{new}}=DP_i + DP_{i-a_j}$\n",
        "\n",
        "\n"
      ],
      "metadata": {
        "id": "Oes03JYIsuON"
      }
    },
    {
      "cell_type": "code",
      "source": [
        "def all_permutation(rhs,coefs):\n",
        "    dp=[0 for i in range(rhs + 1)]\n",
        "    dp[0]=1\n",
        "    for i in range(1,rhs + 1):\n",
        "        for j in range(len(coefs)):\n",
        "            if (coefs[j] <= i):\n",
        "                dp[i] += dp[i - coefs[j]]\n",
        "\n",
        "    return dp[rhs]"
      ],
      "metadata": {
        "id": "zzcGr7Dx1Qmd"
      },
      "execution_count": null,
      "outputs": []
    },
    {
      "cell_type": "code",
      "source": [
        "rhs=10\n",
        "coefs=[2,4,5,8]\n",
        "sum=all_permutation(rhs,coefs)\n",
        "print(\"sum: \",sum)"
      ],
      "metadata": {
        "colab": {
          "base_uri": "https://localhost:8080/"
        },
        "id": "4KIV21M514Oc",
        "outputId": "ef96d6aa-e394-4cf7-a822-50fef7fe638b"
      },
      "execution_count": null,
      "outputs": [
        {
          "output_type": "stream",
          "name": "stdout",
          "text": [
            "sum:  11\n"
          ]
        }
      ]
    }
  ]
}