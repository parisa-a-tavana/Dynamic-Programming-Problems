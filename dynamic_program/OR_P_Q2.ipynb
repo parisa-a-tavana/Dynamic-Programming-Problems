{
  "nbformat": 4,
  "nbformat_minor": 0,
  "metadata": {
    "colab": {
      "provenance": []
    },
    "kernelspec": {
      "name": "python3",
      "display_name": "Python 3"
    },
    "language_info": {
      "name": "python"
    }
  },
  "cells": [
    {
      "cell_type": "markdown",
      "source": [
        "# Q2"
      ],
      "metadata": {
        "id": "FJr4aJiB3xM5"
      }
    },
    {
      "cell_type": "markdown",
      "source": [
        "\n",
        "We allocate two-dimensional array $DP_{r*c}$ to store all the possible outcomes. $DP_{ij}$ means the number of all the unique path from $(0,0)$ to $(i,j)$.\n",
        "since we want to count the number of unique ways, we can assume that the length of each move is 1:\n",
        "\n",
        "consider an arbitary allowed move in direction d and length of x. we can we can decompose it into x moves in direction d with length 1 and the route would be the same.\n",
        "\n",
        "we first initialize $DP_{00}=1$. it state(r,t) is an barrier , $DP_{rt}=0$ is constant\n",
        "\n",
        "consier an arbitary position $DP_{i,j}$:\n",
        "\n",
        "\n",
        "1.   if i=0 ($DP_{0J}$): it means we are in the first row, we can only reach this state if we move from $DP_{0,j-1}$ to $DP_{0,j}$.\n",
        "2.   if j=0 ($DP_{i0}$): it means we are in the first column, we can only reach this state if we move from $DP_{i-1,0}$ to $DP_{i,0}$. \n",
        "3.   o.w: there are three ways to reach the $state (i,j)$ so $DP_{ij}=DP_{i-1\\ j}+DP_{i\\ j-1}+DP_{i-1\\ j-1}$\n",
        "\n",
        "**Implimentation**:\n",
        "\n",
        "In order to save space, we show the grid and $DP$ in the same array. first we initialize all barrier as 1 and the rest of grid cells as 0. the we update the cells as below:\n",
        "\n",
        "if $DP_{00}=1$ the starting call is an barrier so there is no way to reach the final cell so we return 0.\n",
        "\n",
        "\n",
        "first we set $DP_{00}$=1. \n",
        "\n",
        "in the first row(i=0):\n",
        " \n",
        "*   if $DP_{ij}$ is not an barrier: $DP_{ij_{new}}=DP_{i,j-1}$\n",
        "*   if $DP_{ij}$ is an barrier: $DP_{ij_{new}}=0$ \n",
        "\n",
        "we repeat the same algorithm for the first column(j=0)\n",
        "\n",
        "then for the rest of the (r-1,c-1)grid:\n",
        "\n",
        "\n",
        "*   if $DP_{ij}$ is not an barrier: $DP_{ij_{new}}=DP_{i-1\\ j}+DP_{i\\ j-1}+DP_{i-1\\ j-1}$\n",
        "\n",
        "*   if $DP_{ij}$ is an barrier: $DP_{ij_{new}}=0$\n",
        "\n",
        "\n",
        "we set the values of barrier to 0 becouse there is no way to reach them\n",
        "\n",
        "\n",
        "\n",
        "\n",
        "\n",
        "\n"
      ],
      "metadata": {
        "id": "ofKLnPuHRCcN"
      }
    },
    {
      "cell_type": "code",
      "execution_count": 19,
      "metadata": {
        "id": "yy9GnnUTPfXm"
      },
      "outputs": [],
      "source": [
        "def unique_paths(dp):\n",
        "\tr = len(dp)\n",
        "\tc = len(dp[0])\n",
        "\tif (dp[0][0]==1):\n",
        "\t\treturn 0\n",
        "\tdp[0][0] = 1\n",
        "\tfor j in range(1,c):\n",
        "\t\tif (dp[0][j] == 0):\n",
        "\t\t\tdp[0][j] = dp[0][j - 1]\n",
        "\t\telse:\n",
        "\t\t\tdp[0][j] = 0\n",
        "\tfor i in range(1,r):\n",
        "\t\tif (dp[i][0] == 0):\n",
        "\t\t\tdp[i][0] = dp[i - 1][0]\n",
        "\t\telse:\n",
        "\n",
        "\t\t\tdp[i][0] = 0\n",
        "\tfor i in range(1,r):\n",
        "\t\tfor j in range(1,c):\n",
        "\t\t\tif (dp[i][j] == 0):\n",
        "\t\t\t\tdp[i][j] =dp[i - 1][j] + dp[i][j - 1] + dp[i-1][j - 1]\n",
        "\t\t\telse:\n",
        "\t\t\t\tdp[i][j] = 0\n",
        "\n",
        "\treturn dp[r -1][c-1]\n",
        "\n"
      ]
    },
    {
      "cell_type": "code",
      "source": [
        "grid =  [[0 for x in range(6)] for x in range(6)]\n",
        "grid[2][1]=1\n",
        "grid[2][3]=1\n",
        "grid[4][3]=1\n",
        "print(\"the grid space:\")\n",
        "grid"
      ],
      "metadata": {
        "id": "q2Mz-azbCiKa",
        "colab": {
          "base_uri": "https://localhost:8080/",
          "height": 0
        },
        "outputId": "4337055d-594d-40ed-81d0-bfef15719d22"
      },
      "execution_count": 20,
      "outputs": [
        {
          "output_type": "stream",
          "name": "stdout",
          "text": [
            "the grid space:\n"
          ]
        },
        {
          "output_type": "execute_result",
          "data": {
            "text/plain": [
              "[[0, 0, 0, 0, 0, 0],\n",
              " [0, 0, 0, 0, 0, 0],\n",
              " [0, 1, 0, 1, 0, 0],\n",
              " [0, 0, 0, 0, 0, 0],\n",
              " [0, 0, 0, 1, 0, 0],\n",
              " [0, 0, 0, 0, 0, 0]]"
            ]
          },
          "metadata": {},
          "execution_count": 20
        }
      ]
    },
    {
      "cell_type": "code",
      "source": [
        "sum_way=unique_paths(grid)\n",
        "print(\"total ways to reach from A to B: \",sum_way)"
      ],
      "metadata": {
        "id": "E4UsU-x-U_ub",
        "colab": {
          "base_uri": "https://localhost:8080/",
          "height": 0
        },
        "outputId": "59b598a5-734f-45e6-86c3-6f1d98ae8459"
      },
      "execution_count": 21,
      "outputs": [
        {
          "output_type": "stream",
          "name": "stdout",
          "text": [
            "total ways to reach from A to B:  318\n"
          ]
        }
      ]
    }
  ]
}