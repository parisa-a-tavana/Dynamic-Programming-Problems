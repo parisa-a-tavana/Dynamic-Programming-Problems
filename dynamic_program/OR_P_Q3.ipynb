{
  "cells": [
    {
      "cell_type": "markdown",
      "metadata": {
        "id": "1rhPTACpBzUr"
      },
      "source": [
        "# Q3"
      ]
    },
    {
      "cell_type": "markdown",
      "metadata": {
        "id": "PoV5yTunB53Y"
      },
      "source": [
        "A)"
      ]
    },
    {
      "cell_type": "markdown",
      "metadata": {
        "id": "meij42azdz93"
      },
      "source": [
        "we define a function called \n",
        "m: length of the first string\n",
        "\n",
        "n: length of the second string.\n",
        "\n",
        "we consider words  A and B as arrays of characters.\n",
        "$A=a_0a_1...a_m$ , $B=b_0b_1...b_n$ \n",
        "\n",
        " We first initailize two-dimensional array $DP_{(m+1)*(n+1)}$ as 0 to store all the distance between substring of the words. $DP_{ij}$ denotes the edit distance of $a_0a_1...a_i$ and $b_0...b_j$.\n",
        "\n",
        "we use a bottom up manner. \n",
        "\n",
        "$DP_{ij}=$\n",
        "\n",
        "\n",
        "1.   If i=0: it means the first string is empty, only option is to insert all characters of $b_0...b_j$ into $a_0$ so $DP_i=i$\n",
        "\n",
        "2.   If j=0: it means the second string is empty, only option is to remove all characters of first string so $DP_j=j$\n",
        "\n",
        "\n",
        "1.  otherwise if $a_i=b_j$: it means no change is needed so the edit distance of $DP_{ij}$ would be as the same edit distance $DP_{i-1\\ j-1}$. so $DP_{ij}=DP_{i-1\\ j-1}$\n",
        "2.   $o.w$: when $a_i$ and $b_j$ are not the same, we need to whether insert, remove, or replace the letter so  $DP_i=min(DP_{i j-1}+1,\\  DP_{i-1 j}+1,\\  DP_{i-1 j-1}+2)$:\n",
        "\n",
        "*   insert: $DP_{ij}=\\ DP_{i j-1}+1$ we insert $b_j$ into $a_0...a_i$\n",
        "*   remove: $DP_{ij}=\\ DP_{i-1 j}+1$ we delete $a_i$ from $a_0...a_i$\n",
        "*   replace: $DP_{ij}=\\ DP_{i-1 j-1}+2$ we replace $a_i$ with $b_j$"
      ]
    },
    {
      "cell_type": "code",
      "execution_count": 15,
      "metadata": {
        "id": "6Be6vWAecuR9"
      },
      "outputs": [],
      "source": [
        "def edit_cost(a, b, m, n):\n",
        "\tdp = [[0 for x in range(n + 1)] for x in range(m + 1)]\n",
        "\tfor i in range(m + 1):\n",
        "\t\tfor j in range(n + 1):\n",
        "\t\t\tif i == 0:\n",
        "\t\t\t\tdp[i][j] = j\n",
        "\t\t\telif j == 0:\n",
        "\t\t\t\tdp[i][j] = i\n",
        "\t\t\telif a[i-1] == b[j-1]:\n",
        "\t\t\t\tdp[i][j] = dp[i-1][j-1]\n",
        "\t\t\telse:\n",
        "\t\t\t\tdp[i][j] =  min(dp[i][j-1]+1, dp[i-1][j]+1,dp[i-1][j-1]+2) \n",
        "\treturn dp[m][n],dp"
      ]
    },
    {
      "cell_type": "markdown",
      "metadata": {
        "id": "c2TpSdSBozom"
      },
      "source": [
        "in order to find the actions, we start from $DP_{mn}$ and go up untill we reach $DP_{00}$\n",
        "when we are at state $DP_{ij}$:\n",
        "\n",
        "1. if i,j=0: it means we have finished converting the stings.\n",
        " \n",
        "2.   if j=0: it means we are in the first column, and we want to reach $b_0$. so we delete $a_j$ and go to state $DP_{i-1j}$. so the action is to delte $a_j$ from the $j$ position\n",
        "\n",
        "3.   if i=0: we are in the fist row, and our first string is $a_0$so we insert $b_j$ to the string and go to $DP_{i j-1}$.so the action is to insert $b_i$ from the $i$ position\n",
        "\n",
        "4.  o.w:\n",
        "\n",
        "*   if $a_i$ = $b_j$ are the same, we do not do any actions and go to state $DP_{i-1 j-1}$\n",
        "*   o.w: we first calculate $min(DP_{i j-1}+1,\\  DP_{i-1 j}+1,\\  DP_{i-1 j-1}+2)$:\n",
        "\n",
        "*   1.   if $DP_{i-1 j-1}+2$ is the minimum,  we replace $a_i$ with $b_j$ and go to $DP_{i-1 j-1}$ state.\n",
        "*   2.   if $DP_{i j-1}+1$ is the minimum,  we insert $b_j$ and go to $DP_{i j-1}$ state.\n",
        "\n",
        "*   3.   if $DP_{i-1 j}+1$ is the minimum,  we delte $a_i$ and go to $DP_{i-1 j}$ state.\n",
        "\n",
        "when we go to the previous state, we exacute the algorithm untill we reach $BP_{00}$\n",
        "\n",
        "\n",
        "\n",
        "\n"
      ]
    },
    {
      "cell_type": "code",
      "execution_count": 16,
      "metadata": {
        "id": "VmyeSwwBizxF"
      },
      "outputs": [],
      "source": [
        "def find_action(m,n,dp,a,b):\n",
        "    if m==0 and n==0:print(\"Done\")\n",
        "    elif m>0 and n==0:print(\"Delete\",a[m-1]);find_action(m-1,n,dp,a,b); \n",
        "    elif m==0 and n>0:print(\"Insert\",b[n-1]);find_action(m,n-1,dp,a,b);\n",
        "    elif a[m-1]==b[n-1]:find_action(m-1,n-1,dp,a,b)\n",
        "    elif (dp[m-1][n-1]+2)<=(dp[m-1][n]+1) and (dp[m-1][n-1]+2)<=(dp[m][n-1]+1):\n",
        "        print(\"Replace\",a[m-1],\"with\",b[n-1])\n",
        "        find_action(m-1,n-1,dp,a,b)\n",
        "    elif (dp[m][n-1]+1)<(dp[m-1][n-1]+2) and (dp[m][n-1]+1)<=(dp[m-1][n]+1):\n",
        "        print(\"Insert\",b[n-1])\n",
        "        find_action(m,n-1,dp,a,b)\n",
        "    else:\n",
        "        print(\"Delete\",a[m-1])\n",
        "        find_action(m-1,n,dp,a,b)"
      ]
    },
    {
      "cell_type": "code",
      "execution_count": 17,
      "metadata": {
        "colab": {
          "base_uri": "https://localhost:8080/",
          "height": 0
        },
        "id": "3AlOgi-Owijc",
        "outputId": "07342d2a-643f-4e09-e5ff-4030c7e5413d"
      },
      "outputs": [
        {
          "name": "stdout",
          "output_type": "stream",
          "text": [
            "minimum cost to turn index into inside : 3\n",
            "Delete x\n",
            "Insert i\n",
            "Insert s\n",
            "Done\n"
          ]
        }
      ],
      "source": [
        "a=\"index\"\n",
        "b=\"inside\"\n",
        "min_cost,dp=edit_cost(a, b,len(a),len(b))\n",
        "print(\"minimum cost to turn index into inside : \"+str(min_cost))\n",
        "find_action(len(a),len(b),dp,a,b)"
      ]
    },
    {
      "cell_type": "code",
      "execution_count": 18,
      "metadata": {
        "colab": {
          "base_uri": "https://localhost:8080/",
          "height": 0
        },
        "id": "zdJR4oRhzUf0",
        "outputId": "8c58d1f9-cf32-4db9-f6d9-c04d79a5ed4d"
      },
      "outputs": [
        {
          "name": "stdout",
          "output_type": "stream",
          "text": [
            "minimum cost to turn sunday to saturday : 4\n",
            "Replace n with r\n",
            "Insert t\n",
            "Insert a\n",
            "Done\n"
          ]
        }
      ],
      "source": [
        "a = \"sunday\"\n",
        "b = \"saturday\"\n",
        "min_cost,dp=edit_cost(a, b,len(a),len(b))\n",
        "print(\"minimum cost to turn sunday to saturday : \"+str(min_cost))\n",
        "find_action(len(a),len(b),dp,a,b)"
      ]
    },
    {
      "cell_type": "markdown",
      "metadata": {
        "id": "mjy3vRO2VndW"
      },
      "source": [
        "**B)**"
      ]
    },
    {
      "cell_type": "markdown",
      "metadata": {
        "id": "wwegtAqdVpKv"
      },
      "source": [
        "we consider words  A and B as arrays of characters.\n",
        "$A=a_0a_1...a_n$ , $B=b_0b_1...b_m$ \n",
        "where $a_0=b_0=\\emptyset$ . \n",
        "\n",
        "we first create a two dimensional array $DP_{(n+1)*(m+1)}$ to store the longest common string of the substrings. \n",
        "\n",
        "$DP_{ij}$ denotes the length of the longest common string of $ a_0a_1...a_i$ and $ b_0...b_j$.\n",
        "\n",
        "for each $0\\leq i \\leq n$, we loop through $0\\leq j \\leq m$ ,since we iterate i and j in an increasing order,  when we want to calculate $DP_{ij}$, if $r+t < i+j$, we already have the value of $DP_{rt}$\n",
        "   \n",
        "\n",
        "$DP_{ij}=$\n",
        "\n",
        "1.   if i=0: it means we want to find $LCS(∅, b_0..b_j)$ which is 0 so $DP_{0j}=0$\n",
        "2.   if j=0: it means we want to find $LCS(a_0..a_i,∅)$ which is 0 so $DP_{i0}=0$\n",
        "\n",
        "3.   o.w:  \n",
        "\n",
        "*   if $a_i$ = $b_j=x$:it means we want to find $LCS(a_0..a_{i-1}x, b_0..b_{j-1}x)$. by removing $x$ from both strings, we just need to find $LCS(a_0..a_{i-1}, b_0..b_{j-1})$ and increament it by 1(becouse the last character $x$ is common) so $DP_{ij}=DP_{i-1 j-1}+1$\n",
        "\n",
        "*   if $a_i \\neq b_j$ :since  $a_i$ and $b_j$ are not equal, first we rmove $a_i$ and calculate $l_1=LCS(a_0..a_{i-1}, b_0..b_j)$ and then remove $b_j$ and calculate $l_2=LCS(a_0..a_{i}, b_0..b_{j-1})$. since we want the length of the longest common string, we choose the maximum of $(l_1, l_2)$. so $DP_{i,j}=max(DP_{i-1,j}, DP_{i,j-1})$ \n",
        "\n",
        "\n",
        "so $DP_{nm}$ would be the length of longest common string of $A$ and $B$\n",
        "\n",
        "since we first initialized $DP$ as zeros, and the first column and value are all 0, we do not iterate the first row and column in the code.\n",
        "\n",
        "\n",
        "\n",
        "\n",
        "\n",
        "\n",
        "\n"
      ]
    },
    {
      "cell_type": "code",
      "execution_count": 20,
      "metadata": {
        "id": "Mp8F2Vbo8Bya"
      },
      "outputs": [],
      "source": [
        "def lcs(a , b):\n",
        "    n = len(a)\n",
        "    m = len(b)\n",
        "    dp = [[0]*(m+1) for i in range(n+1)]\n",
        "    for i in range(1,n+1):\n",
        "        for j in range(1,m+1):\n",
        "            if i == 0 or j == 0 :\n",
        "                dp[i][j] = 0\n",
        "            elif a[i-1] == b[j-1]:\n",
        "                dp[i][j] = dp[i-1][j-1]+1\n",
        "            else:\n",
        "                dp[i][j] = max(dp[i-1][j] , dp[i][j-1])\n",
        "    return dp[n][m]\n",
        "\n",
        " \n",
        " \n"
      ]
    },
    {
      "cell_type": "code",
      "execution_count": 19,
      "metadata": {
        "colab": {
          "base_uri": "https://localhost:8080/",
          "height": 0
        },
        "id": "CGzkhkhk8Ge3",
        "outputId": "99a9e31c-e2b2-4cda-d089-f53d8739ae04"
      },
      "outputs": [
        {
          "name": "stdout",
          "output_type": "stream",
          "text": [
            "Length of the longest common string of abdacbab and acebfca:  4\n"
          ]
        }
      ],
      "source": [
        "\n",
        "s1 = \"abdacbab\"\n",
        "s2 = \"acebfca\"  \n",
        "print (\"Length of the longest common string of abdacbab and acebfca: \", lcs(s1, s2) )"
      ]
    },
    {
      "cell_type": "code",
      "execution_count": 18,
      "metadata": {
        "colab": {
          "base_uri": "https://localhost:8080/",
          "height": 0
        },
        "id": "KkQSw42aXGSP",
        "outputId": "ccb39415-d79a-4bff-e153-0ba46d072f33"
      },
      "outputs": [
        {
          "name": "stdout",
          "output_type": "stream",
          "text": [
            "Length of the longest common string of hello and what:  1\n"
          ]
        }
      ],
      "source": [
        "s1 = \"hello\"\n",
        "s2 = \"what\"  \n",
        "print (\"Length of the longest common string of hello and what: \", lcs(s1, s2) )"
      ]
    }
  ],
  "metadata": {
    "colab": {
      "provenance": []
    },
    "kernelspec": {
      "display_name": "Python 3",
      "name": "python3"
    },
    "language_info": {
      "name": "python"
    }
  },
  "nbformat": 4,
  "nbformat_minor": 0
}
